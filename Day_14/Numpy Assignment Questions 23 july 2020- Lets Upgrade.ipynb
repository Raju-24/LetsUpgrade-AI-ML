{
 "cells": [
  {
   "cell_type": "markdown",
   "metadata": {},
   "source": [
    "# 1. Create a 3x3x3 array with random values "
   ]
  },
  {
   "cell_type": "code",
   "execution_count": 74,
   "metadata": {},
   "outputs": [],
   "source": [
    "import numpy as np\n",
    "import pandas as pd"
   ]
  },
  {
   "cell_type": "code",
   "execution_count": 75,
   "metadata": {},
   "outputs": [
    {
     "data": {
      "text/plain": [
       "array([[[0.00688209, 0.30910799, 0.8377331 ],\n",
       "        [0.51606453, 0.58141752, 0.97261576],\n",
       "        [0.09967222, 0.86949609, 0.69117621]],\n",
       "\n",
       "       [[0.85263793, 0.99093215, 0.68620751],\n",
       "        [0.57085706, 0.16664367, 0.04177137],\n",
       "        [0.07310993, 0.06872991, 0.95316821]],\n",
       "\n",
       "       [[0.47483675, 0.29427979, 0.88897195],\n",
       "        [0.40208329, 0.86667506, 0.50252248],\n",
       "        [0.29554279, 0.61676102, 0.83426258]]])"
      ]
     },
     "execution_count": 75,
     "metadata": {},
     "output_type": "execute_result"
    }
   ],
   "source": [
    "r_array=np.random.random((3,3,3))\n",
    "r_array"
   ]
  },
  {
   "cell_type": "markdown",
   "metadata": {},
   "source": [
    "# 2.Create a 5x5 matrix with values 1,2,3,4 just below the diagonal"
   ]
  },
  {
   "cell_type": "code",
   "execution_count": 77,
   "metadata": {},
   "outputs": [
    {
     "data": {
      "text/plain": [
       "array([[0, 0, 0, 0, 0],\n",
       "       [1, 0, 0, 0, 0],\n",
       "       [0, 2, 0, 0, 0],\n",
       "       [0, 0, 3, 0, 0],\n",
       "       [0, 0, 0, 4, 0]])"
      ]
     },
     "execution_count": 77,
     "metadata": {},
     "output_type": "execute_result"
    }
   ],
   "source": [
    "a2=np.diag(1+np.arange(4),k=-1)\n",
    "a2"
   ]
  },
  {
   "cell_type": "markdown",
   "metadata": {},
   "source": [
    "# 3.Create a 8x8 matrix and fill it with a checkerboard pattern"
   ]
  },
  {
   "cell_type": "code",
   "execution_count": 78,
   "metadata": {},
   "outputs": [
    {
     "data": {
      "text/plain": [
       "array([[0, 1, 0, 1, 0, 1, 0, 1],\n",
       "       [1, 0, 1, 0, 1, 0, 1, 0],\n",
       "       [0, 1, 0, 1, 0, 1, 0, 1],\n",
       "       [1, 0, 1, 0, 1, 0, 1, 0],\n",
       "       [0, 1, 0, 1, 0, 1, 0, 1],\n",
       "       [1, 0, 1, 0, 1, 0, 1, 0],\n",
       "       [0, 1, 0, 1, 0, 1, 0, 1],\n",
       "       [1, 0, 1, 0, 1, 0, 1, 0]])"
      ]
     },
     "execution_count": 78,
     "metadata": {},
     "output_type": "execute_result"
    }
   ],
   "source": [
    "a3=np.zeros((8,8),dtype=int)\n",
    "a3[1::2,0::2]=1\n",
    "a3[::2,1::2]=1\n",
    "a3"
   ]
  },
  {
   "cell_type": "markdown",
   "metadata": {},
   "source": [
    "# 4. Normalize a 5x5 random matrix"
   ]
  },
  {
   "cell_type": "code",
   "execution_count": 79,
   "metadata": {},
   "outputs": [
    {
     "name": "stdout",
     "output_type": "stream",
     "text": [
      "Before Normalization:\n",
      "[[0.63293287 0.21140445 0.30268871 0.76984702 0.6800998 ]\n",
      " [0.84550118 0.66273742 0.07326658 0.0071491  0.49608944]\n",
      " [0.98310517 0.45126039 0.11501577 0.12796332 0.32028283]\n",
      " [0.07343882 0.25146647 0.80660469 0.045569   0.8250007 ]\n",
      " [0.12466792 0.10690466 0.2619793  0.77620278 0.73017376]]\n",
      "\n",
      "After Normalization:\n"
     ]
    },
    {
     "data": {
      "text/plain": [
       "array([[-0.35879925, -0.79071255, -0.69717939, -0.21851204, -0.3104703 ],\n",
       "       [-0.14099404, -0.32826042, -0.93225363, -1.        , -0.49901398],\n",
       "       [ 0.        , -0.54494745, -0.88947589, -0.87620936, -0.67915182],\n",
       "       [-0.93207714, -0.74966356, -0.18084879, -0.96063357, -0.16199958],\n",
       "       [-0.87958595, -0.89778683, -0.73889173, -0.2119997 , -0.2591627 ]])"
      ]
     },
     "execution_count": 79,
     "metadata": {},
     "output_type": "execute_result"
    }
   ],
   "source": [
    "a4=np.random.random((5,5))\n",
    "print('Before Normalization:')\n",
    "print(a4)\n",
    "print()\n",
    "print('After Normalization:')\n",
    "xmax,xmin=a4.max(),a4.min()\n",
    "a4=(a4-xmax)/(xmax-xmin)\n",
    "a4"
   ]
  },
  {
   "cell_type": "markdown",
   "metadata": {},
   "source": [
    "# 5.  How to find common values between two arrays?"
   ]
  },
  {
   "cell_type": "code",
   "execution_count": 80,
   "metadata": {},
   "outputs": [
    {
     "name": "stdout",
     "output_type": "stream",
     "text": [
      "a5 [0 1 2 3 4 5 6 7 8 9]\n",
      "a51 [ 6  7  8  9 10 11 12 13 14]\n",
      "common_values are [6, 7, 8, 9]\n",
      "common_values are [6 7 8 9]\n"
     ]
    }
   ],
   "source": [
    "a5=np.arange(10)\n",
    "a51=np.arange(6,15)\n",
    "print('a5',a5)\n",
    "print('a51',a51)\n",
    "# Option one\n",
    "common_values=[]\n",
    "for i in a5:\n",
    "    if i in a51:\n",
    "        common_values.append(i)\n",
    "print('common_values are',common_values)\n",
    "# option two\n",
    "print('common_values are',np.intersect1d(a5,a51))"
   ]
  },
  {
   "cell_type": "markdown",
   "metadata": {},
   "source": [
    "# 6.How to get the dates of yesterday, today and tomorrow?"
   ]
  },
  {
   "cell_type": "code",
   "execution_count": 81,
   "metadata": {},
   "outputs": [
    {
     "name": "stdout",
     "output_type": "stream",
     "text": [
      "Yesterday's date is: 2020-08-18\n",
      "Today's date is: 2020-08-19\n",
      "Tomorrow's date is: 2020-08-20\n"
     ]
    }
   ],
   "source": [
    "Yesterday=np.datetime64('today','D')-np.timedelta64(1,\"D\")\n",
    "print(\"Yesterday's date is:\",Yesterday)\n",
    "Today=np.datetime64('today','D')\n",
    "print(\"Today's date is:\", Today)\n",
    "Tomorrow=np.datetime64('today','D')+np.timedelta64(1,'D')\n",
    "print(\"Tomorrow's date is:\",Tomorrow)"
   ]
  },
  {
   "cell_type": "markdown",
   "metadata": {},
   "source": [
    "# 7. Consider two random array A and B, check if they are equal"
   ]
  },
  {
   "cell_type": "code",
   "execution_count": 82,
   "metadata": {},
   "outputs": [
    {
     "name": "stdout",
     "output_type": "stream",
     "text": [
      "a7 = [5 4 7 6 0]\n",
      "a71 = [2 7 3 5 0]\n",
      "False\n"
     ]
    }
   ],
   "source": [
    "a7=np.random.randint(0,10,5)\n",
    "a71=np.random.randint(0,10,5)\n",
    "print('a7 =',a7)\n",
    "print('a71 =',a71)\n",
    "equal=np.allclose(a7,a71)\n",
    "print(equal)"
   ]
  },
  {
   "cell_type": "markdown",
   "metadata": {},
   "source": [
    "# 8.Create random vector of size 10 and replace the maximum value by 0 "
   ]
  },
  {
   "cell_type": "code",
   "execution_count": 83,
   "metadata": {},
   "outputs": [
    {
     "name": "stdout",
     "output_type": "stream",
     "text": [
      "[0.71604245 0.14205679 0.47885722 0.71844373 0.95204665 0.99998321\n",
      " 0.12308822 0.37485395 0.10102477 0.28983174]\n",
      "\n",
      "Maximum value replaced by 0\n"
     ]
    },
    {
     "data": {
      "text/plain": [
       "array([0.71604245, 0.14205679, 0.47885722, 0.71844373, 0.95204665,\n",
       "       0.        , 0.12308822, 0.37485395, 0.10102477, 0.28983174])"
      ]
     },
     "execution_count": 83,
     "metadata": {},
     "output_type": "execute_result"
    }
   ],
   "source": [
    "a8=np.random.random(10)\n",
    "print(a8)\n",
    "print()\n",
    "print('Maximum value replaced by 0')\n",
    "a81=a8[a8.argmax()]=0\n",
    "a8"
   ]
  },
  {
   "cell_type": "markdown",
   "metadata": {},
   "source": [
    "# 9. How to print all the values of an array?"
   ]
  },
  {
   "cell_type": "code",
   "execution_count": null,
   "metadata": {},
   "outputs": [],
   "source": []
  },
  {
   "cell_type": "markdown",
   "metadata": {},
   "source": [
    "# 10.Subtract the mean of each row of a matrix"
   ]
  },
  {
   "cell_type": "code",
   "execution_count": 84,
   "metadata": {},
   "outputs": [
    {
     "name": "stdout",
     "output_type": "stream",
     "text": [
      "[[19  3 19]\n",
      " [ 4  7 15]\n",
      " [ 1 18 19]]\n",
      "Mean of rows are: [13.66666667  8.66666667 12.66666667]\n",
      "[[  5.33333333  -5.66666667   6.33333333]\n",
      " [ -9.66666667  -1.66666667   2.33333333]\n",
      " [-12.66666667   9.33333333   6.33333333]]\n"
     ]
    }
   ],
   "source": [
    "a10=np.random.randint(0,20,size=(3,3))\n",
    "print(a10)\n",
    "print('Mean of rows are:',a10.mean(axis=1))\n",
    "a10_1=a10-a10.mean(axis=1)\n",
    "print(a10_1)"
   ]
  },
  {
   "cell_type": "markdown",
   "metadata": {},
   "source": [
    "# 11.Consider a given vector, how to add 1 to each element indexed by a second vector (be careful with repeated indices)? "
   ]
  },
  {
   "cell_type": "code",
   "execution_count": 85,
   "metadata": {},
   "outputs": [
    {
     "name": "stdout",
     "output_type": "stream",
     "text": [
      "[1. 1. 1. 1. 1. 1. 1. 1. 1. 1.]\n",
      "[9 8 3 9 3 2 8 3 0 5 1 0 3 2 0 4 5 1 3 4]\n"
     ]
    },
    {
     "data": {
      "text/plain": [
       "array([4., 3., 3., 6., 3., 3., 1., 1., 3., 3.])"
      ]
     },
     "execution_count": 85,
     "metadata": {},
     "output_type": "execute_result"
    }
   ],
   "source": [
    "a11=np.ones((10))\n",
    "print(a11)\n",
    "a11_1=np.random.randint(0,len(a11),20)\n",
    "print(a11_1)\n",
    "a11+=np.bincount(a11_1,minlength=len(a11))\n",
    "a11"
   ]
  },
  {
   "cell_type": "code",
   "execution_count": null,
   "metadata": {},
   "outputs": [],
   "source": []
  },
  {
   "cell_type": "markdown",
   "metadata": {},
   "source": [
    "# 12.How to get the diagonal of a dot product?"
   ]
  },
  {
   "cell_type": "code",
   "execution_count": null,
   "metadata": {},
   "outputs": [],
   "source": []
  },
  {
   "cell_type": "markdown",
   "metadata": {},
   "source": [
    "# 13.How to find the most frequent value in an array?"
   ]
  },
  {
   "cell_type": "code",
   "execution_count": 87,
   "metadata": {},
   "outputs": [
    {
     "name": "stdout",
     "output_type": "stream",
     "text": [
      "a13 [1 5 6 2 8 7 2 6 3 2]\n",
      "Most frequest value is: 2\n"
     ]
    }
   ],
   "source": [
    "a13=np.random.randint(1,10,10)\n",
    "print('a13',a13)\n",
    "print('Most frequest value is:',np.bincount(a13).argmax())"
   ]
  },
  {
   "cell_type": "markdown",
   "metadata": {},
   "source": [
    "# 14.How to get the n largest values of an array"
   ]
  },
  {
   "cell_type": "code",
   "execution_count": 88,
   "metadata": {},
   "outputs": [
    {
     "name": "stdout",
     "output_type": "stream",
     "text": [
      "a14 [ 1  2  3  4  5  6  7  8  9 10 11 12 13 14 15 16 17 18 19 20 21 22 23 24\n",
      " 25 26 27 28 29 30 31 32 33 34 35 36 37 38 39 40 41 42 43 44 45 46 47 48\n",
      " 49 50]\n",
      "n largest values of a14 are: [46 47 48 49 50]\n"
     ]
    }
   ],
   "source": [
    "a14=np.arange(1,51)\n",
    "print('a14',a14)\n",
    "n=5\n",
    "print('n largest values of a14 are:',a14[-n:])"
   ]
  },
  {
   "cell_type": "markdown",
   "metadata": {},
   "source": [
    "# 15.How to create a record array from a regular array?"
   ]
  },
  {
   "cell_type": "code",
   "execution_count": 89,
   "metadata": {},
   "outputs": [
    {
     "name": "stdout",
     "output_type": "stream",
     "text": [
      "[(b'Hello', 2.5, 3) (b'World', 3.6, 2)]\n"
     ]
    }
   ],
   "source": [
    "Z = np.array([(\"Hello\", 2.5, 3),(\"World\", 3.6, 2)])\n",
    "R = np.core.records.fromarrays(Z.T,names='col1, col2, col3',formats = 'S8, f8, i8')\n",
    "print(R)"
   ]
  },
  {
   "cell_type": "code",
   "execution_count": null,
   "metadata": {},
   "outputs": [],
   "source": []
  },
  {
   "cell_type": "code",
   "execution_count": null,
   "metadata": {},
   "outputs": [],
   "source": []
  }
 ],
 "metadata": {
  "kernelspec": {
   "display_name": "Python 3",
   "language": "python",
   "name": "python3"
  },
  "language_info": {
   "codemirror_mode": {
    "name": "ipython",
    "version": 3
   },
   "file_extension": ".py",
   "mimetype": "text/x-python",
   "name": "python",
   "nbconvert_exporter": "python",
   "pygments_lexer": "ipython3",
   "version": "3.7.6"
  }
 },
 "nbformat": 4,
 "nbformat_minor": 2
}
