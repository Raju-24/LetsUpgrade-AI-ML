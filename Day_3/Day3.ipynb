{
 "cells": [
  {
   "cell_type": "markdown",
   "metadata": {},
   "source": [
    "# Question 1 :Write a program to subtract two complex numbers in Python."
   ]
  },
  {
   "cell_type": "code",
   "execution_count": 4,
   "metadata": {},
   "outputs": [
    {
     "name": "stdout",
     "output_type": "stream",
     "text": [
      "Answer for Question 1: (10-7j)\n"
     ]
    }
   ],
   "source": [
    "a= 45 - 14j\n",
    "b= 35 -7j\n",
    "print('Answer for Question 1:',a-b)"
   ]
  },
  {
   "cell_type": "markdown",
   "metadata": {},
   "source": [
    "# Question 2 :Write a program to find the fourth root of a number"
   ]
  },
  {
   "cell_type": "code",
   "execution_count": 5,
   "metadata": {},
   "outputs": [
    {
     "name": "stdout",
     "output_type": "stream",
     "text": [
      "Answer for Question 2: 256\n"
     ]
    }
   ],
   "source": [
    "e=4**4\n",
    "print('Answer for Question 2:',e)"
   ]
  },
  {
   "cell_type": "markdown",
   "metadata": {},
   "source": [
    "# Question 3: Write a program to swap two numbers in Python with the help of a temporary variable"
   ]
  },
  {
   "cell_type": "code",
   "execution_count": 7,
   "metadata": {},
   "outputs": [
    {
     "name": "stdout",
     "output_type": "stream",
     "text": [
      "Answer for Question 3: val1= 6\n",
      "Answer for Question 3: val2= 5\n"
     ]
    }
   ],
   "source": [
    "val1=5\n",
    "val2=6\n",
    "temp=val1\n",
    "val1=val2\n",
    "val2=temp\n",
    "print('Answer for Question 3:','val1=',val1)\n",
    "print('Answer for Question 3:','val2=',val2)"
   ]
  },
  {
   "cell_type": "markdown",
   "metadata": {},
   "source": [
    "# Question 4:Write a program to swap two numbers in Python without using a temporary variable"
   ]
  },
  {
   "cell_type": "code",
   "execution_count": 10,
   "metadata": {},
   "outputs": [
    {
     "name": "stdout",
     "output_type": "stream",
     "text": [
      "Answer for Question 4: value1= 20\n",
      "Answer for Question 4: value2= 10\n"
     ]
    }
   ],
   "source": [
    "value1=10\n",
    "value2=20\n",
    "value1=value1+value2\n",
    "value2=value1-value2\n",
    "value1=value1-value2\n",
    "print('Answer for Question 4:','value1=',value1)\n",
    "print('Answer for Question 4:','value2=',value2)"
   ]
  },
  {
   "cell_type": "markdown",
   "metadata": {},
   "source": [
    "# Question 5:Write a program to convert fahrenheit to kelvin and celsius both"
   ]
  },
  {
   "cell_type": "markdown",
   "metadata": {},
   "source": [
    "# a) Fahrenheit to kelvin "
   ]
  },
  {
   "cell_type": "code",
   "execution_count": 13,
   "metadata": {},
   "outputs": [
    {
     "name": "stdout",
     "output_type": "stream",
     "text": [
      "Fahrenheit to kelvin is: 311.27777777777777\n"
     ]
    }
   ],
   "source": [
    "Fahrenheit=100\n",
    "kelvin=273.5 + ((Fahrenheit - 32.0) * (5.0/9.0))\n",
    "print('Fahrenheit to kelvin is:',kelvin)"
   ]
  },
  {
   "cell_type": "markdown",
   "metadata": {},
   "source": [
    "# b) Fahrenheit to Celsius"
   ]
  },
  {
   "cell_type": "code",
   "execution_count": 14,
   "metadata": {},
   "outputs": [
    {
     "name": "stdout",
     "output_type": "stream",
     "text": [
      "Fahrenheit to Celsius is: 15.555555555555555\n"
     ]
    }
   ],
   "source": [
    "#T(°C) = (68°F - 32) × 5/9 = 20 °C\n",
    "Fahrenheit=60\n",
    "Celsius=(Fahrenheit-32)*5/9\n",
    "print('Fahrenheit to Celsius is:',Celsius)"
   ]
  },
  {
   "cell_type": "markdown",
   "metadata": {},
   "source": [
    " # Question 6:Write a program to demonstrate all the available data types in Python. Hint: Use type() function."
   ]
  },
  {
   "cell_type": "code",
   "execution_count": 1,
   "metadata": {},
   "outputs": [
    {
     "name": "stdout",
     "output_type": "stream",
     "text": [
      "<class 'int'>\n",
      "<class 'float'>\n",
      "<class 'complex'>\n",
      "<class 'str'>\n",
      "<class 'list'>\n",
      "<class 'tuple'>\n",
      "<class 'dict'>\n",
      "<class 'range'>\n",
      "<class 'set'>\n"
     ]
    }
   ],
   "source": [
    "num_intr=5\n",
    "num_float=10.23\n",
    "num_complex=5j\n",
    "text='LetsUpgrade'\n",
    "seq_list=[12,83,93,29]\n",
    "seq_tuple=(1,23,45,23)\n",
    "seq_dict={'num':'number','one':1,'two':2,'three':3,'four':4}\n",
    "seq_range=range(10)\n",
    "seq_set={'car','bus','plane'}\n",
    "print(type(num_intr))\n",
    "print(type(num_float))\n",
    "print(type(num_complex))\n",
    "print(type(text))\n",
    "print(type(seq_list))\n",
    "print(type(seq_tuple))\n",
    "print(type(seq_dict))\n",
    "print(type(seq_range))\n",
    "print(type(seq_set))"
   ]
  },
  {
   "cell_type": "markdown",
   "metadata": {},
   "source": [
    "# Question 7: Create a Markdown cell in jupyter and list the steps discussed in the session by Dr. Darshan Ingle sir to create Github profile and upload Githubs Assignment link. "
   ]
  },
  {
   "cell_type": "markdown",
   "metadata": {},
   "source": [
    "Create a profile in github\n",
    "Create new repository as LetsUpgrade-AI-ML\n",
    "Let the option be 'public\n",
    "Once repository is created, click on 'uploading an existing file' link\n",
    "Drag and drop the assignment folder\n",
    "Ensure the file is uploaded\n",
    "click on 'commit changes'\n",
    "go to repository->folder->file path and copy the link\n",
    "go to LetsUpgrade webform\n",
    "enter the required details\n",
    "select the assignment submission day\n",
    "paste the assignment link from github\n",
    "click on submit button"
   ]
  }
 ],
 "metadata": {
  "kernelspec": {
   "display_name": "Python 3",
   "language": "python",
   "name": "python3"
  },
  "language_info": {
   "codemirror_mode": {
    "name": "ipython",
    "version": 3
   },
   "file_extension": ".py",
   "mimetype": "text/x-python",
   "name": "python",
   "nbconvert_exporter": "python",
   "pygments_lexer": "ipython3",
   "version": "3.7.6"
  }
 },
 "nbformat": 4,
 "nbformat_minor": 4
}
