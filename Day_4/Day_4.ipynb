{
 "cells": [
  {
   "cell_type": "markdown",
   "metadata": {},
   "source": [
    "# Question 1: Research on whether addition, subtraction, multiplication, division, floor division and modulo operations be performed on complex numbers. Based on your study, implement a Python program to demonstrate these operations"
   ]
  },
  {
   "cell_type": "code",
   "execution_count": 1,
   "metadata": {},
   "outputs": [
    {
     "name": "stdout",
     "output_type": "stream",
     "text": [
      "(350+50j)\n"
     ]
    }
   ],
   "source": [
    "#complex_add\n",
    "c_add_a=310+30j\n",
    "c_add_b=40+20j\n",
    "print(c_add_a+c_add_b)"
   ]
  },
  {
   "cell_type": "code",
   "execution_count": 2,
   "metadata": {},
   "outputs": [
    {
     "name": "stdout",
     "output_type": "stream",
     "text": [
      "(10+20j)\n"
     ]
    }
   ],
   "source": [
    "# complex subtraction\n",
    "c_sub_a=30+50j\n",
    "c_sub_b=20+30j\n",
    "print(c_sub_a-c_sub_b)"
   ]
  },
  {
   "cell_type": "code",
   "execution_count": 7,
   "metadata": {},
   "outputs": [
    {
     "name": "stdout",
     "output_type": "stream",
     "text": [
      "(-70+110j)\n"
     ]
    }
   ],
   "source": [
    "# complex multiplication\n",
    "c_mul_a=10+20j\n",
    "c_mul_b=3+5j\n",
    "print(c_mul_a*c_mul_b)"
   ]
  },
  {
   "cell_type": "code",
   "execution_count": 8,
   "metadata": {},
   "outputs": [
    {
     "name": "stdout",
     "output_type": "stream",
     "text": [
      "(1.0344827586206897-1.586206896551724j)\n"
     ]
    }
   ],
   "source": [
    "# complex division\n",
    "c_div_a=10+2j\n",
    "c_div_b=2+5j\n",
    "print(c_div_a/c_div_b)"
   ]
  },
  {
   "cell_type": "markdown",
   "metadata": {},
   "source": [
    "# Question 2: Research on range() functions and its parameters. Create a markdown cell and write in your own words (no copy-paste from google please) what you understand about it. Implement a small program of your choice on the same. "
   ]
  },
  {
   "cell_type": "markdown",
   "metadata": {},
   "source": [
    "1. range() function has three parameters. start, end, skip\n",
    "2. the start number in range in inclusive\n",
    "3. but the end number in range is exclusive while performing count\n",
    "4. we can also skip the count in between the range"
   ]
  },
  {
   "cell_type": "code",
   "execution_count": 22,
   "metadata": {},
   "outputs": [
    {
     "name": "stdout",
     "output_type": "stream",
     "text": [
      "1\n",
      "3\n",
      "5\n",
      "7\n",
      "9\n"
     ]
    }
   ],
   "source": [
    "for i in range(1,10,2):\n",
    "    print(i)\n",
    "    i=i+1"
   ]
  },
  {
   "cell_type": "markdown",
   "metadata": {},
   "source": [
    "# Question 3:  Consider two numbers. Perform their subtraction and if the result of subtraction is greater than 25, print their multiplication result else print their division result"
   ]
  },
  {
   "cell_type": "code",
   "execution_count": 6,
   "metadata": {},
   "outputs": [
    {
     "name": "stdout",
     "output_type": "stream",
     "text": [
      "2125\n"
     ]
    }
   ],
   "source": [
    "num1 = 125\n",
    "num2 = 17\n",
    "if num1-num2 > 25:\n",
    "    print(num1*num2)\n",
    "else:\n",
    "    print(num1/num2)"
   ]
  },
  {
   "cell_type": "code",
   "execution_count": 5,
   "metadata": {},
   "outputs": [
    {
     "name": "stdout",
     "output_type": "stream",
     "text": [
      "5.0\n"
     ]
    }
   ],
   "source": [
    "num1 = 15\n",
    "num2 = 3\n",
    "if num1-num2 > 25:\n",
    "    print(num1*num2)\n",
    "else:\n",
    "    print(num1 / num2)"
   ]
  },
  {
   "cell_type": "markdown",
   "metadata": {},
   "source": [
    "# Question 4: Consider a list of 10 elements of integer values. If the number in the list is divisible by 2, print the result as \"square of that number minus 2\". "
   ]
  },
  {
   "cell_type": "code",
   "execution_count": 20,
   "metadata": {},
   "outputs": [
    {
     "name": "stdout",
     "output_type": "stream",
     "text": [
      "2\n",
      "14\n",
      "34\n",
      "62\n",
      "98\n"
     ]
    }
   ],
   "source": [
    "list1 = [1,2,3,4,5,6,7,8,9,10]\n",
    "for i in list1:\n",
    "    if i % 2 == 0:\n",
    "        print(i*i-2)"
   ]
  },
  {
   "cell_type": "markdown",
   "metadata": {},
   "source": [
    "# Question 5: Consider a list of 10 elements. Print all the elements in the list which are greater than 7 when that number is divided 2. "
   ]
  },
  {
   "cell_type": "code",
   "execution_count": 24,
   "metadata": {},
   "outputs": [],
   "source": [
    "for i in range(11,21):\n",
    "    if i % 2 > 7:\n",
    "        print(i)"
   ]
  },
  {
   "cell_type": "code",
   "execution_count": null,
   "metadata": {},
   "outputs": [],
   "source": []
  }
 ],
 "metadata": {
  "kernelspec": {
   "display_name": "Python 3",
   "language": "python",
   "name": "python3"
  },
  "language_info": {
   "codemirror_mode": {
    "name": "ipython",
    "version": 3
   },
   "file_extension": ".py",
   "mimetype": "text/x-python",
   "name": "python",
   "nbconvert_exporter": "python",
   "pygments_lexer": "ipython3",
   "version": "3.7.6"
  }
 },
 "nbformat": 4,
 "nbformat_minor": 4
}
