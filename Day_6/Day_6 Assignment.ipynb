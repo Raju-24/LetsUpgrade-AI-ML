{
 "cells": [
  {
   "cell_type": "markdown",
   "metadata": {},
   "source": [
    "# Question 1"
   ]
  },
  {
   "cell_type": "code",
   "execution_count": 1,
   "metadata": {},
   "outputs": [
    {
     "name": "stdout",
     "output_type": "stream",
     "text": [
      "company name is: google\n"
     ]
    }
   ],
   "source": [
    "r='rajku@google.com'\n",
    "result=r[r.find('@',0,len(r))+1:r.find('.',0,len(r))]\n",
    "print('company name is:',result)"
   ]
  },
  {
   "cell_type": "markdown",
   "metadata": {},
   "source": [
    "# Question 2"
   ]
  },
  {
   "cell_type": "code",
   "execution_count": 1,
   "metadata": {},
   "outputs": [
    {
     "name": "stdout",
     "output_type": "stream",
     "text": [
      "Enter comma separated wordsFrog,Dog,Ball,Zebra,Cat,Apple,Elephant\n",
      "['Apple', 'Ball', 'Cat', 'Dog', 'Elephant', 'Frog', 'Zebra']\n"
     ]
    }
   ],
   "source": [
    "str1=input('Enter comma separated words')\n",
    "str2=str1.split(',')\n",
    "print(sorted(str2))\n",
    "#Frog,Dog,Ball,Zebra,Cat,Apple,Elephant"
   ]
  },
  {
   "cell_type": "markdown",
   "metadata": {},
   "source": [
    "# Question 3"
   ]
  },
  {
   "cell_type": "code",
   "execution_count": 2,
   "metadata": {},
   "outputs": [
    {
     "name": "stdout",
     "output_type": "stream",
     "text": [
      "{'banana', 'orange', 'apple', 'grapes'}\n",
      "{'banana', 'onion', 'apple', 'carrot', 'orange', 'beans', 'grapes'}\n",
      "{'banana', 'apple', 'carrot', 'orange', 'beans', 'grapes'}\n"
     ]
    }
   ],
   "source": [
    "fruits={'apple','grapes','banana'}\n",
    "vegetables={'onion','carrot','beans'}\n",
    "fruits.add('orange')\n",
    "print(fruits)\n",
    "fruits.update(vegetables)\n",
    "print(fruits)\n",
    "fruits.remove('onion')\n",
    "print(fruits)"
   ]
  },
  {
   "cell_type": "markdown",
   "metadata": {},
   "source": [
    "# Question 4"
   ]
  },
  {
   "cell_type": "code",
   "execution_count": 21,
   "metadata": {},
   "outputs": [
    {
     "name": "stdout",
     "output_type": "stream",
     "text": [
      "[3, 5, 8, 10, 11, 12, 14, 16]\n"
     ]
    }
   ],
   "source": [
    "num=(1,2,4,6,7,9,15,13,17)\n",
    "def missing_num(a):\n",
    "    return [x for x in range(min(a),max(a)) if x not in a]\n",
    "print(missing_num(num))"
   ]
  },
  {
   "cell_type": "markdown",
   "metadata": {},
   "source": [
    "# Question 5"
   ]
  },
  {
   "cell_type": "code",
   "execution_count": 22,
   "metadata": {},
   "outputs": [
    {
     "name": "stdout",
     "output_type": "stream",
     "text": [
      "[12, 24, 35, 88, 120, 155]\n"
     ]
    }
   ],
   "source": [
    "list1=[12, 24, 35, 24, 88, 120, 155, 88, 120, 155]\n",
    "def unique(a):\n",
    "    u_num=[]\n",
    "    [u_num.append(x) for x in a if x not in u_num]\n",
    "    print(u_num)\n",
    "unique(list1)"
   ]
  },
  {
   "cell_type": "code",
   "execution_count": null,
   "metadata": {},
   "outputs": [],
   "source": []
  }
 ],
 "metadata": {
  "kernelspec": {
   "display_name": "Python 3",
   "language": "python",
   "name": "python3"
  },
  "language_info": {
   "codemirror_mode": {
    "name": "ipython",
    "version": 3
   },
   "file_extension": ".py",
   "mimetype": "text/x-python",
   "name": "python",
   "nbconvert_exporter": "python",
   "pygments_lexer": "ipython3",
   "version": "3.7.6"
  }
 },
 "nbformat": 4,
 "nbformat_minor": 4
}
